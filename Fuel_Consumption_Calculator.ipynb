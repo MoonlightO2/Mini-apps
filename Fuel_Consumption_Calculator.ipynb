{
  "nbformat": 4,
  "nbformat_minor": 0,
  "metadata": {
    "colab": {
      "provenance": [],
      "mount_file_id": "1fDnyZE_RVlsbgquxszuPFDJOhtU1P0L2",
      "authorship_tag": "ABX9TyPr+vz2d6vXqiQVK37wPJNJ",
      "include_colab_link": true
    },
    "kernelspec": {
      "name": "python3",
      "display_name": "Python 3"
    },
    "language_info": {
      "name": "python"
    }
  },
  "cells": [
    {
      "cell_type": "markdown",
      "metadata": {
        "id": "view-in-github",
        "colab_type": "text"
      },
      "source": [
        "<a href=\"https://colab.research.google.com/github/MoonlightO2/Mini-apps/blob/main/Fuel_Consumption_Calculator.ipynb\" target=\"_parent\"><img src=\"https://colab.research.google.com/assets/colab-badge.svg\" alt=\"Open In Colab\"/></a>"
      ]
    },
    {
      "cell_type": "markdown",
      "source": [
        "# **Fuel Consumption Calculator**\n",
        "This program calculates the fuel efficiency of a vehicle based on the distance traveled and fuel used."
      ],
      "metadata": {
        "id": "RkY9w139Ualc"
      }
    },
    {
      "cell_type": "code",
      "execution_count": 4,
      "metadata": {
        "id": "_i2TQVjeUVeW"
      },
      "outputs": [],
      "source": [
        "import csv\n",
        "import os\n",
        "\n",
        "# Define the CSV file path\n",
        "CSV_FILE = \"/content/drive/MyDrive/Projects/Portfolio/Vehicles/Mini apps/fuel.csv\"\n",
        "\n",
        "class FuelConsumptionCalculator:\n",
        "    def __init__(self):\n",
        "        self.vehicle_make = \"\"\n",
        "        self.vehicle_model = \"\"\n",
        "        self.vehicle_year = \"\"\n",
        "        self.registration_number = \"\"\n",
        "        self.distance = 0\n",
        "        self.fuel_used = 0\n",
        "\n",
        "    def input_data(self):\n",
        "        \"\"\"Takes user input for vehicle details, distance, and fuel used.\"\"\"\n",
        "        self.vehicle_make = input(\"Enter vehicle make (e.g., Toyota, Ford): \").strip()\n",
        "        self.vehicle_model = input(\"Enter vehicle model (e.g., Corolla, Fiesta): \").strip()\n",
        "        self.vehicle_year = input(\"Enter vehicle year (e.g., 2020): \").strip()\n",
        "        self.registration_number = input(\"Enter vehicle registration number: \").strip()\n",
        "        self.distance = float(input(\"Enter distance traveled (in km): \"))\n",
        "        self.fuel_used = float(input(\"Enter fuel used (in liters): \"))\n",
        "\n",
        "    def calculate_fuel_efficiency(self):\n",
        "        \"\"\"Calculates fuel efficiency in km per liter.\"\"\"\n",
        "        if self.fuel_used == 0:\n",
        "            print(\"⚠️ Fuel used cannot be zero.\")\n",
        "            return None\n",
        "        return round(self.distance / self.fuel_used, 2)  # Rounded to 2 decimal places\n",
        "\n",
        "    def save_to_csv(self, efficiency):\n",
        "        \"\"\"Appends the record to the CSV file, adding headers if necessary.\"\"\"\n",
        "        file_exists = os.path.isfile(CSV_FILE)  # Check if file exists\n",
        "\n",
        "        with open(CSV_FILE, mode=\"a\", newline=\"\") as file:\n",
        "            writer = csv.writer(file)\n",
        "\n",
        "            # Write header only if the file is new/empty\n",
        "            if not file_exists or os.stat(CSV_FILE).st_size == 0:\n",
        "                writer.writerow([\n",
        "                    \"Make\", \"Model\", \"Year\", \"Registration\",\n",
        "                    \"Distance (km)\", \"Fuel Used (L)\", \"Efficiency (km/L)\"\n",
        "                ])\n",
        "\n",
        "            writer.writerow([\n",
        "                self.vehicle_make, self.vehicle_model, self.vehicle_year, self.registration_number,\n",
        "                self.distance, self.fuel_used, efficiency\n",
        "            ])\n",
        "        print(\"✅ Record saved to CSV successfully.\")\n",
        "\n",
        "    @staticmethod\n",
        "    def view_records():\n",
        "        \"\"\"Reads and displays all records from the CSV file.\"\"\"\n",
        "        try:\n",
        "            with open(CSV_FILE, mode=\"r\") as file:\n",
        "                reader = csv.reader(file)\n",
        "                records = list(reader)\n",
        "\n",
        "                if len(records) <= 1:  # If only header or empty\n",
        "                    print(\"📂 No records found in the file.\")\n",
        "                    return\n",
        "\n",
        "                print(\"\\n📊 Fuel Consumption Records:\")\n",
        "                print(\"----------------------------------------------------------------------------\")\n",
        "                print(f\"{'Make':<10}{'Model':<10}{'Year':<6}{'Reg':<12}{'Distance':<10}{'Fuel Used':<10}{'Efficiency':<10}\")\n",
        "                print(\"----------------------------------------------------------------------------\")\n",
        "\n",
        "                for row in records[1:]:  # Skip header when displaying data\n",
        "                    if row:  # Skip empty rows\n",
        "                        print(f\"{row[0]:<10}{row[1]:<10}{row[2]:<6}{row[3]:<12}{row[4]:<10}{row[5]:<10}{row[6]:<10}\")\n",
        "\n",
        "        except FileNotFoundError:\n",
        "            print(\"⚠️ CSV file not found. No records available.\")"
      ]
    },
    {
      "cell_type": "code",
      "source": [
        "# Main program\n",
        "def main():\n",
        "    calculator = FuelConsumptionCalculator()\n",
        "\n",
        "    while True:\n",
        "        print(\"\\n🚗 Fuel Consumption Calculator\")\n",
        "        print(\"1. Add Vehicle Fuel Record\")\n",
        "        print(\"2. View Fuel Consumption Records\")\n",
        "        print(\"3. Exit\")\n",
        "\n",
        "        choice = input(\"Choose an option: \")\n",
        "\n",
        "        if choice == '1':\n",
        "            calculator.input_data()\n",
        "            efficiency = calculator.calculate_fuel_efficiency()\n",
        "            if efficiency is not None:\n",
        "                print(f\"⛽ Fuel efficiency: {efficiency:.2f} km per liter.\")\n",
        "                calculator.save_to_csv(efficiency)\n",
        "\n",
        "        elif choice == '2':\n",
        "            calculator.view_records()\n",
        "\n",
        "        elif choice == '3':\n",
        "            print(\"👋 Exiting program. Have a great day!\")\n",
        "            break\n",
        "\n",
        "        else:\n",
        "            print(\"❌ Invalid choice. Please try again.\")"
      ],
      "metadata": {
        "id": "vtxaZtYDX0-E"
      },
      "execution_count": 5,
      "outputs": []
    },
    {
      "cell_type": "code",
      "source": [
        "if __name__ == \"__main__\":\n",
        "    main()"
      ],
      "metadata": {
        "id": "rkhxUp6XX10z"
      },
      "execution_count": null,
      "outputs": []
    }
  ]
}