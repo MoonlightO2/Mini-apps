{
  "nbformat": 4,
  "nbformat_minor": 0,
  "metadata": {
    "colab": {
      "provenance": [],
      "mount_file_id": "14wZFNck_IsUS_S15vZ32BnPOR1DYxiO_",
      "authorship_tag": "ABX9TyNFzclKoiU1Ps5MHgfUTuUw",
      "include_colab_link": true
    },
    "kernelspec": {
      "name": "python3",
      "display_name": "Python 3"
    },
    "language_info": {
      "name": "python"
    }
  },
  "cells": [
    {
      "cell_type": "markdown",
      "metadata": {
        "id": "view-in-github",
        "colab_type": "text"
      },
      "source": [
        "<a href=\"https://colab.research.google.com/github/MoonlightO2/Mini-apps/blob/main/Vehicle_Inventory_Management.ipynb\" target=\"_parent\"><img src=\"https://colab.research.google.com/assets/colab-badge.svg\" alt=\"Open In Colab\"/></a>"
      ]
    },
    {
      "cell_type": "markdown",
      "source": [
        "# **Vehicle Inventory Management**\n",
        "This simple program will allow users to add, view, and remove vehicles from an inventory. Each vehicle will have properties like model, year, mileage, and price."
      ],
      "metadata": {
        "id": "eklsYDW5Ugq7"
      }
    },
    {
      "cell_type": "code",
      "execution_count": null,
      "metadata": {
        "id": "B5aSdGAXTrhu"
      },
      "outputs": [],
      "source": [
        "import csv\n",
        "\n",
        "# Path to CSV file\n",
        "CSV_FILE = \"/content/drive/MyDrive/Projects/Portfolio/Vehicles/Mini apps/vehicle_inventory.csv\"\n",
        "\n",
        "class Vehicle:\n",
        "    def __init__(self, model, year, mileage, price):\n",
        "        self.model = model\n",
        "        self.year = year\n",
        "        self.mileage = mileage\n",
        "        self.price = price\n",
        "\n",
        "    def __str__(self):\n",
        "        return f\"{self.year} {self.model} - {self.mileage} miles - ${self.price}\"\n",
        "\n",
        "class VehicleInventory:\n",
        "    def __init__(self):\n",
        "        self.inventory = []\n",
        "        self.load_from_csv()  # Load existing data from CSV\n",
        "\n",
        "    def add_vehicle(self, vehicle):\n",
        "        \"\"\"Adds a new vehicle to the inventory and saves it to the CSV file.\"\"\"\n",
        "        self.inventory.append(vehicle)\n",
        "        self.save_to_csv()\n",
        "\n",
        "    def remove_vehicle(self, model):\n",
        "        \"\"\"Removes a vehicle from inventory and updates the CSV file.\"\"\"\n",
        "        self.inventory = [v for v in self.inventory if v.model != model]\n",
        "        self.save_to_csv()\n",
        "\n",
        "    def display_inventory(self):\n",
        "        \"\"\"Displays the vehicle inventory from the CSV file.\"\"\"\n",
        "        try:\n",
        "            with open(CSV_FILE, mode=\"r\") as file:\n",
        "                reader = csv.reader(file)\n",
        "                next(reader)  # Skip headers\n",
        "                records = list(reader)  # Convert reader to list\n",
        "\n",
        "                if not records:\n",
        "                    print(\"No vehicles in inventory.\")\n",
        "                    return\n",
        "\n",
        "                print(\"\\nVehicle Inventory:\")\n",
        "                print(f\"{'Model':<15}{'Year':<10}{'Mileage':<10}{'Price':<10}\")\n",
        "                print(\"-\" * 45)\n",
        "\n",
        "                for row in records:\n",
        "                    model, year, mileage, price = row\n",
        "                    print(f\"{model:<15}{year:<10}{mileage:<10}${price:<10}\")\n",
        "\n",
        "        except FileNotFoundError:\n",
        "            print(\"No existing inventory found.\")\n",
        "\n",
        "    def save_to_csv(self):\n",
        "        \"\"\"Saves inventory to CSV file.\"\"\"\n",
        "        with open(CSV_FILE, mode=\"w\", newline=\"\") as file:\n",
        "            writer = csv.writer(file)\n",
        "            writer.writerow([\"Model\", \"Year\", \"Mileage\", \"Price\"])  # CSV Headers\n",
        "            for vehicle in self.inventory:\n",
        "                writer.writerow([vehicle.model, vehicle.year, vehicle.mileage, vehicle.price])\n",
        "\n",
        "    def load_from_csv(self):\n",
        "        \"\"\"Loads inventory from CSV file if available.\"\"\"\n",
        "        try:\n",
        "            with open(CSV_FILE, mode=\"r\") as file:\n",
        "                reader = csv.reader(file)\n",
        "                next(reader)  # Skip headers\n",
        "                for row in reader:\n",
        "                    if row:  # Ensure row is not empty\n",
        "                        model, year, mileage, price = row\n",
        "                        self.inventory.append(Vehicle(model, year, mileage, price))\n",
        "        except FileNotFoundError:\n",
        "            print(\"No existing inventory found. Creating a new one.\")"
      ]
    },
    {
      "cell_type": "code",
      "source": [
        "# Main program\n",
        "def main():\n",
        "    inventory = VehicleInventory()\n",
        "\n",
        "    while True:\n",
        "        print(\"\\nVehicle Inventory Management\")\n",
        "        print(\"1. Add Vehicle\")\n",
        "        print(\"2. Remove Vehicle\")\n",
        "        print(\"3. View Inventory\")\n",
        "        print(\"4. Exit\")\n",
        "\n",
        "        choice = input(\"Choose an option: \")\n",
        "\n",
        "        if choice == '1':\n",
        "            model = input(\"Enter model: \")\n",
        "            year = input(\"Enter year: \")\n",
        "            mileage = input(\"Enter mileage: \")\n",
        "            price = input(\"Enter price: \")\n",
        "\n",
        "            vehicle = Vehicle(model, year, mileage, price)\n",
        "            inventory.add_vehicle(vehicle)\n",
        "            print(f\"{model} added to inventory.\")\n",
        "\n",
        "        elif choice == '2':\n",
        "            model = input(\"Enter model to remove: \")\n",
        "            inventory.remove_vehicle(model)\n",
        "            print(f\"{model} removed from inventory.\")\n",
        "\n",
        "        elif choice == '3':\n",
        "            inventory.display_inventory()\n",
        "\n",
        "        elif choice == '4':\n",
        "            print(\"Exiting program.\")\n",
        "            break\n",
        "\n",
        "        else:\n",
        "            print(\"Invalid choice. Please try again.\")"
      ],
      "metadata": {
        "id": "gOrLTl2BWbHF"
      },
      "execution_count": null,
      "outputs": []
    },
    {
      "cell_type": "code",
      "source": [
        "if __name__ == \"__main__\":\n",
        "    main()"
      ],
      "metadata": {
        "id": "FqM4jC2KWb_Z"
      },
      "execution_count": null,
      "outputs": []
    }
  ]
}